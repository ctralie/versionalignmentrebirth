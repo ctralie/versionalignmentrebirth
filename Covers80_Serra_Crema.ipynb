{
 "cells": [
  {
   "cell_type": "code",
   "execution_count": null,
   "id": "ef521946",
   "metadata": {},
   "outputs": [],
   "source": [
    "%load_ext autoreload\n",
    "%autoreload 2\n",
    "import numpy as np\n",
    "import matplotlib.pyplot as plt\n",
    "import librosa\n",
    "import glob\n",
    "import IPython.display as ipd\n",
    "from csmssmtools import *\n",
    "from cover_alignment import *\n",
    "from seqalignment import *\n",
    "from audioutils import *\n",
    "import crema\n",
    "import IPython.display as ipd"
   ]
  },
  {
   "cell_type": "code",
   "execution_count": null,
   "id": "ecce165b",
   "metadata": {},
   "outputs": [],
   "source": [
    "import glob\n",
    "pairs = glob.glob(\"covers80_audio/*\")\n",
    "pairs = [p for p in pairs if not \"list\" in p]\n",
    "tunes  = [glob.glob(\"{}/*\".format(p))[0] for p in pairs]\n",
    "tunes += [glob.glob(\"{}/*\".format(p))[1] for p in pairs]"
   ]
  },
  {
   "cell_type": "code",
   "execution_count": null,
   "id": "2fa93435",
   "metadata": {},
   "outputs": [],
   "source": [
    "cremas = []\n",
    "model = crema.models.chord.ChordModel()\n",
    "for tune in tunes:\n",
    "    y, sr = librosa.load(tune)\n",
    "    cremas.append(model.outputs(y=y, sr=sr)['chord_pitch'].T)"
   ]
  },
  {
   "cell_type": "code",
   "execution_count": null,
   "id": "f467ef73",
   "metadata": {},
   "outputs": [],
   "source": [
    "avg_fac = 10\n",
    "cremas = [aggregate_intervals(c, avg_fac, [np.median]) for c in cremas]"
   ]
  },
  {
   "cell_type": "markdown",
   "id": "2856ed32",
   "metadata": {},
   "source": [
    "### Crema Similarity Covers80\n",
    "\n",
    "All pairs alignments"
   ]
  },
  {
   "cell_type": "code",
   "execution_count": null,
   "id": "31f43712",
   "metadata": {},
   "outputs": [],
   "source": [
    "kappa = 0.095\n",
    "wins_per_block = 20\n",
    "sim_crema = np.zeros((80, 80))\n",
    "for i in range(80):\n",
    "    for j in range(80):\n",
    "        ipd.clear_output()\n",
    "        print(i, j)\n",
    "        sim_crema[i, j] = get_alignment_score_serra(chrompwr(cremas[i], 0.5), chrompwr(cremas[j+80], 0.5), wins_per_block)"
   ]
  },
  {
   "cell_type": "code",
   "execution_count": null,
   "id": "b4c0dda6",
   "metadata": {},
   "outputs": [],
   "source": [
    "plt.imshow(sim_crema)\n",
    "correct = np.argmax(sim_crema, axis=1) == np.arange(sim_crema.shape[0])\n",
    "print(np.sum(correct)) # 30 on first try, 45 with OTI"
   ]
  },
  {
   "cell_type": "code",
   "execution_count": null,
   "id": "2f80f65c",
   "metadata": {},
   "outputs": [],
   "source": []
  }
 ],
 "metadata": {
  "kernelspec": {
   "display_name": "Python 3 (ipykernel)",
   "language": "python",
   "name": "python3"
  },
  "language_info": {
   "codemirror_mode": {
    "name": "ipython",
    "version": 3
   },
   "file_extension": ".py",
   "mimetype": "text/x-python",
   "name": "python",
   "nbconvert_exporter": "python",
   "pygments_lexer": "ipython3",
   "version": "3.7.16"
  }
 },
 "nbformat": 4,
 "nbformat_minor": 5
}
